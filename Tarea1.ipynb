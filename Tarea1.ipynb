{
  "nbformat": 4,
  "nbformat_minor": 0,
  "metadata": {
    "colab": {
      "provenance": [],
      "authorship_tag": "ABX9TyM2qTWUS5YhDtdG3nDJ37v1",
      "include_colab_link": true
    },
    "kernelspec": {
      "name": "python3",
      "display_name": "Python 3"
    },
    "language_info": {
      "name": "python"
    }
  },
  "cells": [
    {
      "cell_type": "markdown",
      "metadata": {
        "id": "view-in-github",
        "colab_type": "text"
      },
      "source": [
        "<a href=\"https://colab.research.google.com/github/MathReynaldo/Introduccion_DS-UNJFSC/blob/main/Tarea1.ipynb\" target=\"_parent\"><img src=\"https://colab.research.google.com/assets/colab-badge.svg\" alt=\"Open In Colab\"/></a>"
      ]
    },
    {
      "cell_type": "code",
      "execution_count": 1,
      "metadata": {
        "id": "7nucXuVHyStg"
      },
      "outputs": [],
      "source": [
        "import pandas as pd"
      ]
    },
    {
      "cell_type": "code",
      "source": [
        "data_cancer = pd.read_csv('https://raw.githubusercontent.com/VictorGuevaraP/ME-Machine-Learning/refs/heads/master/cancer.csv')"
      ],
      "metadata": {
        "id": "22oBBEuE0QU6"
      },
      "execution_count": 2,
      "outputs": []
    },
    {
      "cell_type": "code",
      "source": [
        "data_cancer.info()"
      ],
      "metadata": {
        "colab": {
          "base_uri": "https://localhost:8080/"
        },
        "id": "qCqU5LS22Dl0",
        "outputId": "d72017b2-9efc-4daf-a3df-4b3e85e64c33"
      },
      "execution_count": 12,
      "outputs": [
        {
          "output_type": "stream",
          "name": "stdout",
          "text": [
            "<class 'pandas.core.frame.DataFrame'>\n",
            "RangeIndex: 858 entries, 0 to 857\n",
            "Data columns (total 37 columns):\n",
            " #   Column                              Non-Null Count  Dtype \n",
            "---  ------                              --------------  ----- \n",
            " 0   Unnamed: 0                          858 non-null    int64 \n",
            " 1   Age                                 858 non-null    int64 \n",
            " 2   Number.of.sexual.partners           858 non-null    object\n",
            " 3   First.sexual.intercourse            858 non-null    object\n",
            " 4   Num.of.pregnancies                  858 non-null    object\n",
            " 5   Smokes                              858 non-null    object\n",
            " 6   Smokes..years.                      858 non-null    object\n",
            " 7   Smokes..packs.year.                 858 non-null    object\n",
            " 8   Hormonal.Contraceptives             858 non-null    object\n",
            " 9   Hormonal.Contraceptives..years.     858 non-null    object\n",
            " 10  IUD                                 858 non-null    object\n",
            " 11  IUD..years.                         858 non-null    object\n",
            " 12  STDs                                858 non-null    object\n",
            " 13  STDs..number.                       858 non-null    object\n",
            " 14  STDs.condylomatosis                 858 non-null    object\n",
            " 15  STDs.cervical.condylomatosis        858 non-null    object\n",
            " 16  STDs.vaginal.condylomatosis         858 non-null    object\n",
            " 17  STDs.vulvo.perineal.condylomatosis  858 non-null    object\n",
            " 18  STDs.syphilis                       858 non-null    object\n",
            " 19  STDs.pelvic.inflammatory.disease    858 non-null    object\n",
            " 20  STDs.genital.herpes                 858 non-null    object\n",
            " 21  STDs.molluscum.contagiosum          858 non-null    object\n",
            " 22  STDs.AIDS                           858 non-null    object\n",
            " 23  STDs.HIV                            858 non-null    object\n",
            " 24  STDs.Hepatitis.B                    858 non-null    object\n",
            " 25  STDs.HPV                            858 non-null    object\n",
            " 26  STDs..Number.of.diagnosis           858 non-null    int64 \n",
            " 27  STDs..Time.since.first.diagnosis    858 non-null    object\n",
            " 28  STDs..Time.since.last.diagnosis     858 non-null    object\n",
            " 29  Dx.Cancer                           858 non-null    int64 \n",
            " 30  Dx.CIN                              858 non-null    int64 \n",
            " 31  Dx.HPV                              858 non-null    int64 \n",
            " 32  Dx                                  858 non-null    int64 \n",
            " 33  Hinselmann                          858 non-null    int64 \n",
            " 34  Schiller                            858 non-null    int64 \n",
            " 35  Citology                            858 non-null    int64 \n",
            " 36  Biopsy                              858 non-null    int64 \n",
            "dtypes: int64(11), object(26)\n",
            "memory usage: 248.1+ KB\n"
          ]
        }
      ]
    }
  ]
}